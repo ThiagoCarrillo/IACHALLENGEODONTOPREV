{
  "nbformat": 4,
  "nbformat_minor": 0,
  "metadata": {
    "colab": {
      "provenance": [],
      "gpuType": "T4"
    },
    "kernelspec": {
      "name": "python3",
      "display_name": "Python 3"
    },
    "language_info": {
      "name": "python"
    }
  },
  "cells": [
    {
      "cell_type": "code",
      "execution_count": 1,
      "metadata": {
        "id": "Yiaa8kFQgLiF"
      },
      "outputs": [],
      "source": [
        "import pandas as pd\n",
        "import numpy as np\n",
        "import matplotlib.pyplot as plt\n",
        "import seaborn as sns\n",
        "from sklearn.model_selection import train_test_split\n",
        "from sklearn.ensemble import RandomForestClassifier\n",
        "from sklearn.metrics import classification_report, confusion_matrix\n",
        "import tensorflow as tf\n",
        "from tensorflow import keras"
      ]
    },
    {
      "cell_type": "code",
      "source": [
        "print(\"Projeto OdontoPrev - Detecção de Padrões Comportamentais\")\n",
        "print(\"Objetivo: Identificar padrões comportamentais dos beneficiários para melhorar o atendimento e reduzir custos.\")"
      ],
      "metadata": {
        "id": "NKVgjh0agQX0"
      },
      "execution_count": null,
      "outputs": []
    },
    {
      "cell_type": "code",
      "source": [
        "data = {\n",
        "    'Paciente_ID': range(1, 101),\n",
        "    'Historico_Tratamento': np.random.choice(['Tratamento_A', 'Tratamento_B', 'Tratamento_C'], 100),\n",
        "    'Faltas': np.random.randint(0, 3, 100),\n",
        "    'Sinistro': np.random.choice([0, 1], 100)  # 0 para não sinistro, 1 para sinistro\n",
        "}"
      ],
      "metadata": {
        "id": "BR8MJW9IgSVh"
      },
      "execution_count": 3,
      "outputs": []
    },
    {
      "cell_type": "code",
      "source": [
        "df = pd.DataFrame(data)\n",
        "print(\"Exemplo dos dados coletados:\")\n",
        "print(df.head())"
      ],
      "metadata": {
        "id": "y4iRnmlmgTkf"
      },
      "execution_count": null,
      "outputs": []
    },
    {
      "cell_type": "code",
      "source": [
        "plt.figure(figsize=(8, 6))\n",
        "sns.histplot(df['Faltas'], kde=True)\n",
        "plt.title('Distribuição de Faltas')\n",
        "plt.xlabel('Número de Faltas')\n",
        "plt.ylabel('Contagem')\n",
        "plt.show()"
      ],
      "metadata": {
        "id": "jehZX0akgW14"
      },
      "execution_count": null,
      "outputs": []
    },
    {
      "cell_type": "code",
      "source": [
        "X = df[['Faltas']]\n",
        "y = df['Sinistro']"
      ],
      "metadata": {
        "id": "MIR5o9ocgYHH"
      },
      "execution_count": 6,
      "outputs": []
    },
    {
      "cell_type": "code",
      "source": [
        "X_train, X_test, y_train, y_test = train_test_split(X, y, test_size=0.3, random_state=42)"
      ],
      "metadata": {
        "id": "AxfVUUhWgY9A"
      },
      "execution_count": 7,
      "outputs": []
    },
    {
      "cell_type": "code",
      "source": [
        "clf = RandomForestClassifier(n_estimators=100, random_state=42)\n",
        "clf.fit(X_train, y_train)"
      ],
      "metadata": {
        "id": "L8pWK7dIgffF"
      },
      "execution_count": null,
      "outputs": []
    },
    {
      "cell_type": "code",
      "source": [
        "y_pred = clf.predict(X_test)"
      ],
      "metadata": {
        "id": "lwJqG6PjghRX"
      },
      "execution_count": 9,
      "outputs": []
    },
    {
      "cell_type": "code",
      "source": [
        "print('Classification Report:')\n",
        "print(classification_report(y_test, y_pred))"
      ],
      "metadata": {
        "id": "lYrHWQI7giiL"
      },
      "execution_count": null,
      "outputs": []
    },
    {
      "cell_type": "code",
      "source": [
        "print('Confusion Matrix:')\n",
        "print(confusion_matrix(y_test, y_pred))"
      ],
      "metadata": {
        "id": "WltNdcWXgjx2"
      },
      "execution_count": null,
      "outputs": []
    },
    {
      "cell_type": "code",
      "source": [
        "#Análise Detalhada por Paciente\n",
        "df['Probabilidade_Sinistro'] = clf.predict_proba(X)[:, 1]"
      ],
      "metadata": {
        "id": "ZITacUyUglHS"
      },
      "execution_count": 12,
      "outputs": []
    },
    {
      "cell_type": "code",
      "source": [
        "def classificar_risco(prob):\n",
        "    if prob < 0.3:\n",
        "        return 'Baixo Risco'\n",
        "    elif prob < 0.7:\n",
        "        return 'Risco Moderado'\n",
        "    else:\n",
        "        return 'Alto Risco'\n",
        "\n",
        "df['Risco'] = df['Probabilidade_Sinistro'].apply(classificar_risco)"
      ],
      "metadata": {
        "id": "vOCEjaLYgoNJ"
      },
      "execution_count": 13,
      "outputs": []
    },
    {
      "cell_type": "code",
      "source": [
        "print(\"\\nAnálise detalhada dos pacientes:\")\n",
        "print(df[['Paciente_ID', 'Historico_Tratamento', 'Faltas', 'Sinistro', 'Probabilidade_Sinistro', 'Risco']])"
      ],
      "metadata": {
        "id": "z4W2Oyixgt24"
      },
      "execution_count": null,
      "outputs": []
    },
    {
      "cell_type": "code",
      "source": [
        "print(\"\\nResumo por categoria de risco:\")\n",
        "print(df['Risco'].value_counts())"
      ],
      "metadata": {
        "id": "8vnsbxMrgvUU"
      },
      "execution_count": null,
      "outputs": []
    },
    {
      "cell_type": "code",
      "source": [
        "print(\"\\nPróximos Passos:\")\n",
        "print(\"- Coletar dados mais detalhados.\")\n",
        "print(\"- Aplicar TensorFlow/Keras para análise preditiva.\")\n",
        "print(\"- Integrar com APIs para notificações aos profissionais.\")"
      ],
      "metadata": {
        "id": "8dAh9mMIgwTm"
      },
      "execution_count": null,
      "outputs": []
    }
  ]
}